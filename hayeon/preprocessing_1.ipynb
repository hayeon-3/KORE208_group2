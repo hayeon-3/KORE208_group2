{
  "nbformat": 4,
  "nbformat_minor": 0,
  "metadata": {
    "colab": {
      "provenance": []
    },
    "kernelspec": {
      "name": "python3",
      "display_name": "Python 3"
    },
    "language_info": {
      "name": "python"
    }
  },
  "cells": [
    {
      "cell_type": "code",
      "source": [
        "pip install OldHangeul"
      ],
      "metadata": {
        "colab": {
          "base_uri": "https://localhost:8080/"
        },
        "id": "Xygr2pOFuKbH",
        "outputId": "844b8832-0a75-4152-a43f-77472d2edff3"
      },
      "execution_count": 2,
      "outputs": [
        {
          "output_type": "stream",
          "name": "stdout",
          "text": [
            "Collecting OldHangeul\n",
            "  Downloading OldHangeul-1.2.1-py3-none-any.whl.metadata (4.6 kB)\n",
            "Downloading OldHangeul-1.2.1-py3-none-any.whl (22 kB)\n",
            "Installing collected packages: OldHangeul\n",
            "Successfully installed OldHangeul-1.2.1\n"
          ]
        }
      ]
    },
    {
      "cell_type": "code",
      "execution_count": 3,
      "metadata": {
        "id": "XBxvb-qnuI27"
      },
      "outputs": [],
      "source": [
        "import re\n",
        "from OldHangeul import OldTexts"
      ]
    },
    {
      "cell_type": "code",
      "source": [
        "def process_old_hangeul_text(filepath, encoding='utf-8', save_units_path=None):\n",
        "    with open(filepath, 'r', encoding=encoding, errors='ignore') as file:\n",
        "        content = file.read()\n",
        "\n",
        "    print(\"파일 읽기 완료\")\n",
        "\n",
        "    try:\n",
        "        original_text = OldTexts(content)\n",
        "    except Exception as e:\n",
        "        print(\"OldTexts 처리 중 오류:\", e)\n",
        "        return\n",
        "\n",
        "    print(\"OldTexts 객체 생성 완료\")\n",
        "    #태그 제거 및 어절단위 분리\n",
        "    cleaned_text = re.sub(r\"<[^>]+>\", \"\", str(original_text))\n",
        "    units = re.split(r'[ ]+', cleaned_text)\n",
        "    units = [u for u in units if u]\n",
        "\n",
        "    print(f\"어절 수: {len(units)}개 (앞 30개 출력)\")\n",
        "    for unit in units[:30]:\n",
        "        print(unit)\n",
        "    # OldTexts 객체로 다시 구성\n",
        "    cleaned_text_obj = OldTexts(cleaned_text)\n",
        "    print(\"최종 OldTexts 객체 생성 완료\")\n",
        "    print(str(cleaned_text_obj)[:300], \"...\")\n",
        "\n",
        "    # 어절 리스트 저장\n",
        "    if save_units_path:\n",
        "        with open(save_units_path, 'w', encoding='utf-8') as f:\n",
        "            for unit in units:\n",
        "                f.write(unit + '\\n')\n",
        "    return {\n",
        "        \"original\": original_text,\n",
        "        \"cleaned_str\": cleaned_text,\n",
        "        \"units\": units,\n",
        "        \"final_obj\": cleaned_text_obj\n",
        "    }"
      ],
      "metadata": {
        "id": "tKIgaTzhuQMM"
      },
      "execution_count": 4,
      "outputs": []
    },
    {
      "cell_type": "code",
      "source": [
        "result = process_old_hangeul_text(\n",
        "    '/Users/hayeon/Downloads/A5CA0001_1.txt',\n",
        "    encoding='utf-8',\n",
        "    save_units_path='/Users/hayeon/Downloads/A5CA0001_1_units.txt'\n",
        ")"
      ],
      "metadata": {
        "colab": {
          "base_uri": "https://localhost:8080/",
          "height": 376
        },
        "id": "cba02OF-uT4m",
        "outputId": "2f3d8ac8-b636-4a51-b22b-32db3f32a67f"
      },
      "execution_count": 5,
      "outputs": [
        {
          "output_type": "error",
          "ename": "FileNotFoundError",
          "evalue": "[Errno 2] No such file or directory: '/Users/hayeon/Downloads/A5CA0001_1.txt'",
          "traceback": [
            "\u001b[0;31m---------------------------------------------------------------------------\u001b[0m",
            "\u001b[0;31mFileNotFoundError\u001b[0m                         Traceback (most recent call last)",
            "\u001b[0;32m<ipython-input-5-c759c567e8a7>\u001b[0m in \u001b[0;36m<cell line: 0>\u001b[0;34m()\u001b[0m\n\u001b[0;32m----> 1\u001b[0;31m result = process_old_hangeul_text(\n\u001b[0m\u001b[1;32m      2\u001b[0m     \u001b[0;34m'/Users/hayeon/Downloads/A5CA0001_1.txt'\u001b[0m\u001b[0;34m,\u001b[0m\u001b[0;34m\u001b[0m\u001b[0;34m\u001b[0m\u001b[0m\n\u001b[1;32m      3\u001b[0m     \u001b[0mencoding\u001b[0m\u001b[0;34m=\u001b[0m\u001b[0;34m'utf-8'\u001b[0m\u001b[0;34m,\u001b[0m\u001b[0;34m\u001b[0m\u001b[0;34m\u001b[0m\u001b[0m\n\u001b[1;32m      4\u001b[0m     \u001b[0msave_units_path\u001b[0m\u001b[0;34m=\u001b[0m\u001b[0;34m'/Users/hayeon/Downloads/A5CA0001_1_units.txt'\u001b[0m\u001b[0;34m\u001b[0m\u001b[0;34m\u001b[0m\u001b[0m\n\u001b[1;32m      5\u001b[0m )\n",
            "\u001b[0;32m<ipython-input-4-c666dc6e3bfa>\u001b[0m in \u001b[0;36mprocess_old_hangeul_text\u001b[0;34m(filepath, encoding, save_units_path)\u001b[0m\n\u001b[1;32m      1\u001b[0m \u001b[0;32mdef\u001b[0m \u001b[0mprocess_old_hangeul_text\u001b[0m\u001b[0;34m(\u001b[0m\u001b[0mfilepath\u001b[0m\u001b[0;34m,\u001b[0m \u001b[0mencoding\u001b[0m\u001b[0;34m=\u001b[0m\u001b[0;34m'utf-8'\u001b[0m\u001b[0;34m,\u001b[0m \u001b[0msave_units_path\u001b[0m\u001b[0;34m=\u001b[0m\u001b[0;32mNone\u001b[0m\u001b[0;34m)\u001b[0m\u001b[0;34m:\u001b[0m\u001b[0;34m\u001b[0m\u001b[0;34m\u001b[0m\u001b[0m\n\u001b[0;32m----> 2\u001b[0;31m     \u001b[0;32mwith\u001b[0m \u001b[0mopen\u001b[0m\u001b[0;34m(\u001b[0m\u001b[0mfilepath\u001b[0m\u001b[0;34m,\u001b[0m \u001b[0;34m'r'\u001b[0m\u001b[0;34m,\u001b[0m \u001b[0mencoding\u001b[0m\u001b[0;34m=\u001b[0m\u001b[0mencoding\u001b[0m\u001b[0;34m,\u001b[0m \u001b[0merrors\u001b[0m\u001b[0;34m=\u001b[0m\u001b[0;34m'ignore'\u001b[0m\u001b[0;34m)\u001b[0m \u001b[0;32mas\u001b[0m \u001b[0mfile\u001b[0m\u001b[0;34m:\u001b[0m\u001b[0;34m\u001b[0m\u001b[0;34m\u001b[0m\u001b[0m\n\u001b[0m\u001b[1;32m      3\u001b[0m         \u001b[0mcontent\u001b[0m \u001b[0;34m=\u001b[0m \u001b[0mfile\u001b[0m\u001b[0;34m.\u001b[0m\u001b[0mread\u001b[0m\u001b[0;34m(\u001b[0m\u001b[0;34m)\u001b[0m\u001b[0;34m\u001b[0m\u001b[0;34m\u001b[0m\u001b[0m\n\u001b[1;32m      4\u001b[0m \u001b[0;34m\u001b[0m\u001b[0m\n\u001b[1;32m      5\u001b[0m     \u001b[0mprint\u001b[0m\u001b[0;34m(\u001b[0m\u001b[0;34m\"파일 읽기 완료\"\u001b[0m\u001b[0;34m)\u001b[0m\u001b[0;34m\u001b[0m\u001b[0;34m\u001b[0m\u001b[0m\n",
            "\u001b[0;31mFileNotFoundError\u001b[0m: [Errno 2] No such file or directory: '/Users/hayeon/Downloads/A5CA0001_1.txt'"
          ]
        }
      ]
    },
    {
      "cell_type": "code",
      "source": [],
      "metadata": {
        "id": "4Ut7EtwEuVsL"
      },
      "execution_count": null,
      "outputs": []
    }
  ]
}